{
 "cells": [
  {
   "cell_type": "code",
   "execution_count": 1,
   "id": "630012c5",
   "metadata": {},
   "outputs": [],
   "source": [
    "import os, sys\n",
    "# PWD = os.getenv('PWD')\n",
    "PWD = os.path.abspath('.')\n",
    "\n",
    "PROJ_MISSING_MSG = \"\"\"Set an enviroment variable:\\n\n",
    "`DJANGO_PROJECT=your_project_name`\\n\n",
    "or call:\\n\n",
    "`init_django(your_project_name)`\n",
    "\"\"\"\n",
    "\n",
    "def init_django(project_name=None):\n",
    "    os.chdir(PWD)\n",
    "    project_name = project_name or os.environ.get('DJANGO_PROJECT') or None\n",
    "    if project_name == None:\n",
    "        raise Exception(PROJ_MISSING_MSG)\n",
    "    sys.path.insert(0, os.getenv('PWD'))\n",
    "    os.environ.setdefault('DJANGO_SETTINGS_MODULE', f'{project_name}.settings')\n",
    "    os.environ[\"DJANGO_ALLOW_ASYNC_UNSAFE\"] = \"true\"\n",
    "    import django\n",
    "    django.setup()\n",
    "\n",
    "init_django('shoe_board') #project name"
   ]
  },
  {
   "cell_type": "code",
   "execution_count": 2,
   "id": "248e6a1c",
   "metadata": {},
   "outputs": [],
   "source": [
    "import pandas as pd"
   ]
  },
  {
   "cell_type": "code",
   "execution_count": null,
   "id": "bb9b2a0a",
   "metadata": {},
   "outputs": [],
   "source": []
  },
  {
   "cell_type": "code",
   "execution_count": 16,
   "id": "f0f48242",
   "metadata": {},
   "outputs": [],
   "source": [
    "prod_df = pd.read_csv('product.csv', index_col=0)\n",
    "img_df = pd.read_csv('prod_img.csv', index_col=0)"
   ]
  },
  {
   "cell_type": "code",
   "execution_count": 17,
   "id": "7f81574e",
   "metadata": {},
   "outputs": [],
   "source": [
    "prod_dict = prod_df.to_dict('records')"
   ]
  },
  {
   "cell_type": "code",
   "execution_count": 18,
   "id": "61e43688",
   "metadata": {},
   "outputs": [
    {
     "data": {
      "text/plain": [
       "{'Kream번호': 85785,\n",
       " '제품명': '(W) UGG Classic Clear Mini Boots Natural Black',\n",
       " '가격': '159000.0',\n",
       " '발매가': '160.0',\n",
       " '발매일': '정보 없음',\n",
       " '브랜드': 'UGG'}"
      ]
     },
     "execution_count": 18,
     "metadata": {},
     "output_type": "execute_result"
    }
   ],
   "source": [
    "prod_dict[0]"
   ]
  },
  {
   "cell_type": "code",
   "execution_count": 19,
   "id": "f44812a5",
   "metadata": {},
   "outputs": [],
   "source": [
    "from tqdm import tqdm"
   ]
  },
  {
   "cell_type": "code",
   "execution_count": 20,
   "id": "84439f8b",
   "metadata": {},
   "outputs": [
    {
     "data": {
      "text/plain": [
       "'2023-03-31T00:00:00Z'"
      ]
     },
     "execution_count": 20,
     "metadata": {},
     "output_type": "execute_result"
    }
   ],
   "source": [
    "prod_df[~(prod_df['발매일']=='정보 없음')]['발매일'][29]"
   ]
  },
  {
   "cell_type": "code",
   "execution_count": 21,
   "id": "32b06905",
   "metadata": {},
   "outputs": [
    {
     "data": {
      "text/plain": [
       "정보 없음                   14652\n",
       "2021-01-01T00:00:00Z      138\n",
       "2020-01-01T00:00:00Z      121\n",
       "2019-01-01T00:00:00Z       75\n",
       "2018-01-01T23:59:59Z       56\n",
       "                        ...  \n",
       "2018-05-03T00:00:00Z        1\n",
       "2014-07-30T00:00:00Z        1\n",
       "2018-04-21T00:00:00Z        1\n",
       "2014-08-04T00:00:00Z        1\n",
       "2021-01-09T00:00:02Z        1\n",
       "Name: 발매일, Length: 5647, dtype: int64"
      ]
     },
     "execution_count": 21,
     "metadata": {},
     "output_type": "execute_result"
    }
   ],
   "source": [
    "prod_df['발매일'].value_counts()"
   ]
  },
  {
   "cell_type": "code",
   "execution_count": 22,
   "id": "90ec7d2c",
   "metadata": {},
   "outputs": [
    {
     "name": "stderr",
     "output_type": "stream",
     "text": [
      "100%|█████████████████████████████████████████████████████████████████████████████████████████████████████████████████████████████████████████████████████████████████| 36152/36152 [00:09<00:00, 3786.22it/s]\n"
     ]
    }
   ],
   "source": [
    "new_list = []\n",
    "for prod in tqdm(prod_dict):\n",
    "#     prod['Kream번호']\n",
    "    img_cstr = img_df.loc[img_df['prod'] == prod['Kream번호'], 'prod_url']\n",
    "    if prod['가격'] != '정보 없음':\n",
    "        prod['가격'] = int(float(prod['가격']))\n",
    "    else:\n",
    "        prod['가격'] = None\n",
    "        \n",
    "    if prod['발매일'] == '정보 없음':\n",
    "        prod['발매일'] = None\n",
    "    else:\n",
    "        prod['발매일'] = prod['발매일'].split('T')[0]\n",
    "        \n",
    "    new_dict = {\n",
    "        'prod_id':prod['Kream번호'],\n",
    "        'price': prod['가격'],\n",
    "        'name': prod['제품명'],\n",
    "        'date_release': prod['발매일'],\n",
    "        'brand':prod['브랜드']\n",
    "    }\n",
    "    try:\n",
    "        images = [img_url.strip() for img_url in img_cstr.values[0].split(',')]\n",
    "        new_list.append((new_dict, images))\n",
    "    except:\n",
    "        prod['images'] = [] \n"
   ]
  },
  {
   "cell_type": "code",
   "execution_count": 10,
   "id": "839e993b",
   "metadata": {},
   "outputs": [],
   "source": [
    "from shoe_detect.models import Product, ProductImg"
   ]
  },
  {
   "cell_type": "code",
   "execution_count": null,
   "id": "036564f4",
   "metadata": {},
   "outputs": [],
   "source": []
  },
  {
   "cell_type": "code",
   "execution_count": 11,
   "id": "d1ff0737",
   "metadata": {},
   "outputs": [
    {
     "name": "stderr",
     "output_type": "stream",
     "text": [
      "100%|███████████████████████████████████████████████████████████████████████████████████████████████████████████████████████████████████████████████████████████████████| 36089/36089 [06:08<00:00, 98.04it/s]\n"
     ]
    }
   ],
   "source": [
    "for prod_dict, images in tqdm(new_list):\n",
    "    product = Product(**prod_dict)\n",
    "    product.save()\n",
    "    \n",
    "    image_objs = [ProductImg(prod=product, img_path=image) for image in images] \n",
    "    ProductImg.objects.bulk_create(image_objs)\n",
    "    \n"
   ]
  },
  {
   "cell_type": "code",
   "execution_count": 23,
   "id": "bdee872e",
   "metadata": {},
   "outputs": [
    {
     "name": "stderr",
     "output_type": "stream",
     "text": [
      "100%|███████████████████████████████████████████████████████████████████████████████████████████████████████████████████████████████████████████████████████████████████| 36089/36089 [09:36<00:00, 62.62it/s]\n"
     ]
    }
   ],
   "source": [
    "for prod_dict, images in tqdm(new_list):\n",
    "    product = Product.objects.filter(name=prod_dict['name'])[0]\n",
    "    product.prod_id = f\"KREAM_{prod_dict['prod_id']}\"\n",
    "    product.save()"
   ]
  },
  {
   "cell_type": "code",
   "execution_count": null,
   "id": "4587a790",
   "metadata": {},
   "outputs": [],
   "source": []
  },
  {
   "cell_type": "code",
   "execution_count": 12,
   "id": "4d3e51cb",
   "metadata": {},
   "outputs": [
    {
     "data": {
      "text/plain": [
       "{'price': None,\n",
       " 'name': '(W) G/Fore Grosgrain Kiltie Disruptor Green',\n",
       " 'date_release': None,\n",
       " 'brand': 'G_Fore'}"
      ]
     },
     "execution_count": 12,
     "metadata": {},
     "output_type": "execute_result"
    }
   ],
   "source": []
  }
 ],
 "metadata": {
  "kernelspec": {
   "display_name": "Python 3 (ipykernel)",
   "language": "python",
   "name": "python3"
  },
  "language_info": {
   "codemirror_mode": {
    "name": "ipython",
    "version": 3
   },
   "file_extension": ".py",
   "mimetype": "text/x-python",
   "name": "python",
   "nbconvert_exporter": "python",
   "pygments_lexer": "ipython3",
   "version": "3.7.12"
  }
 },
 "nbformat": 4,
 "nbformat_minor": 5
}
