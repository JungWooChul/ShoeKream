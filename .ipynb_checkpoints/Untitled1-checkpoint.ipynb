{
 "cells": [
  {
   "cell_type": "code",
   "execution_count": 1,
   "id": "f2c2faf5",
   "metadata": {},
   "outputs": [],
   "source": [
    "import os, sys\n",
    "# PWD = os.getenv('PWD')\n",
    "PWD = os.path.abspath('.')\n",
    "\n",
    "PROJ_MISSING_MSG = \"\"\"Set an enviroment variable:\\n\n",
    "`DJANGO_PROJECT=your_project_name`\\n\n",
    "or call:\\n\n",
    "`init_django(your_project_name)`\n",
    "\"\"\"\n",
    "\n",
    "def init_django(project_name=None):\n",
    "    os.chdir(PWD)\n",
    "    project_name = project_name or os.environ.get('DJANGO_PROJECT') or None\n",
    "    if project_name == None:\n",
    "        raise Exception(PROJ_MISSING_MSG)\n",
    "    sys.path.insert(0, os.getenv('PWD'))\n",
    "    os.environ.setdefault('DJANGO_SETTINGS_MODULE', f'{project_name}.settings')\n",
    "    os.environ[\"DJANGO_ALLOW_ASYNC_UNSAFE\"] = \"true\"\n",
    "    import django\n",
    "    django.setup()\n",
    "\n",
    "init_django('shoe_board') #project name"
   ]
  },
  {
   "cell_type": "code",
   "execution_count": 2,
   "id": "c0e39847",
   "metadata": {},
   "outputs": [],
   "source": [
    "import pandas as pd"
   ]
  },
  {
   "cell_type": "code",
   "execution_count": null,
   "id": "fbc0d718",
   "metadata": {},
   "outputs": [],
   "source": []
  },
  {
   "cell_type": "code",
   "execution_count": 3,
   "id": "3783f972",
   "metadata": {},
   "outputs": [],
   "source": [
    "prod_df = pd.read_csv('product.csv', index_col=0)\n",
    "img_df = pd.read_csv('prod_img.csv', index_col=0)"
   ]
  },
  {
   "cell_type": "code",
   "execution_count": 4,
   "id": "a5786513",
   "metadata": {},
   "outputs": [],
   "source": [
    "prod_dict = prod_df.to_dict('records')"
   ]
  },
  {
   "cell_type": "code",
   "execution_count": 5,
   "id": "854c7b67",
   "metadata": {},
   "outputs": [
    {
     "data": {
      "text/plain": [
       "{'Kream번호': 85785,\n",
       " '제품명': '(W) UGG Classic Clear Mini Boots Natural Black',\n",
       " '가격': '159000.0',\n",
       " '발매가': '160.0',\n",
       " '발매일': '정보 없음',\n",
       " '브랜드': 'UGG'}"
      ]
     },
     "execution_count": 5,
     "metadata": {},
     "output_type": "execute_result"
    }
   ],
   "source": [
    "prod_dict[0]"
   ]
  },
  {
   "cell_type": "code",
   "execution_count": 6,
   "id": "e2859a55",
   "metadata": {},
   "outputs": [],
   "source": [
    "from tqdm import tqdm"
   ]
  },
  {
   "cell_type": "code",
   "execution_count": 7,
   "id": "88723121",
   "metadata": {},
   "outputs": [
    {
     "data": {
      "text/plain": [
       "'2023-03-31T00:00:00Z'"
      ]
     },
     "execution_count": 7,
     "metadata": {},
     "output_type": "execute_result"
    }
   ],
   "source": [
    "prod_df[~(prod_df['발매일']=='정보 없음')]['발매일'][29]"
   ]
  },
  {
   "cell_type": "code",
   "execution_count": 8,
   "id": "b5f8d7ba",
   "metadata": {},
   "outputs": [
    {
     "data": {
      "text/plain": [
       "정보 없음                   14652\n",
       "2021-01-01T00:00:00Z      138\n",
       "2020-01-01T00:00:00Z      121\n",
       "2019-01-01T00:00:00Z       75\n",
       "2018-01-01T23:59:59Z       56\n",
       "                        ...  \n",
       "2018-05-03T00:00:00Z        1\n",
       "2014-07-30T00:00:00Z        1\n",
       "2018-04-21T00:00:00Z        1\n",
       "2014-08-04T00:00:00Z        1\n",
       "2021-01-09T00:00:02Z        1\n",
       "Name: 발매일, Length: 5647, dtype: int64"
      ]
     },
     "execution_count": 8,
     "metadata": {},
     "output_type": "execute_result"
    }
   ],
   "source": [
    "prod_df['발매일'].value_counts()"
   ]
  },
  {
   "cell_type": "code",
   "execution_count": 9,
   "id": "cc8ca8ca",
   "metadata": {},
   "outputs": [
    {
     "name": "stderr",
     "output_type": "stream",
     "text": [
      "100%|█████████████████████████████████████████████████████████████████████████████████████████████████████████████████████████████████████████████████████████████████| 36152/36152 [00:10<00:00, 3561.71it/s]\n"
     ]
    }
   ],
   "source": [
    "new_list = []\n",
    "for prod in tqdm(prod_dict):\n",
    "#     prod['Kream번호']\n",
    "    img_cstr = img_df.loc[img_df['prod'] == prod['Kream번호'], 'prod_url']\n",
    "    if prod['가격'] != '정보 없음':\n",
    "        prod['가격'] = int(float(prod['가격']))\n",
    "    else:\n",
    "        prod['가격'] = None\n",
    "        \n",
    "    if prod['발매일'] == '정보 없음':\n",
    "        prod['발매일'] = None\n",
    "    else:\n",
    "        prod['발매일'] = prod['발매일'].split('T')[0]\n",
    "        \n",
    "    new_dict = {\n",
    "        'price': prod['가격'],\n",
    "        'name': prod['제품명'],\n",
    "        'date_release': prod['발매일'],\n",
    "        'brand':prod['브랜드']\n",
    "    }\n",
    "    try:\n",
    "        images = [img_url.strip() for img_url in img_cstr.values[0].split(',')]\n",
    "        new_list.append((new_dict, images))\n",
    "    except:\n",
    "        prod['images'] = [] \n"
   ]
  },
  {
   "cell_type": "code",
   "execution_count": 10,
   "id": "d159148c",
   "metadata": {},
   "outputs": [],
   "source": [
    "from shoe_detect.models import Product, ProductImg"
   ]
  },
  {
   "cell_type": "code",
   "execution_count": null,
   "id": "6dd6504b",
   "metadata": {},
   "outputs": [],
   "source": []
  },
  {
   "cell_type": "code",
   "execution_count": null,
   "id": "b7df35dd",
   "metadata": {},
   "outputs": [
    {
     "name": "stderr",
     "output_type": "stream",
     "text": [
      " 57%|███████████████████████████████████████████████████████████████████████████████████████████▉                                                                      | 20491/36089 [03:28<02:32, 102.19it/s]"
     ]
    }
   ],
   "source": [
    "for prod_dict, images in tqdm(new_list):\n",
    "    product = Product(**prod_dict)\n",
    "    product.save()\n",
    "    \n",
    "    image_objs = [ProductImg(prod=product, img_path=image) for image in images] \n",
    "    ProductImg.objects.bulk_create(image_objs)\n",
    "    \n"
   ]
  },
  {
   "cell_type": "code",
   "execution_count": null,
   "id": "a0dafe22",
   "metadata": {},
   "outputs": [],
   "source": [
    "for prod_dict, images in tqdm(new_list):\n",
    "    product = Product.objects.filter(name=prod_dict['name'])[0]\n",
    "    product.prod_id = f\"KREAM_{prod_dict['Kream번호']}\"\n",
    "    product.save()"
   ]
  },
  {
   "cell_type": "code",
   "execution_count": null,
   "id": "25289c3f",
   "metadata": {},
   "outputs": [],
   "source": []
  },
  {
   "cell_type": "code",
   "execution_count": null,
   "id": "23bd1137",
   "metadata": {},
   "outputs": [],
   "source": []
  }
 ],
 "metadata": {
  "kernelspec": {
   "display_name": "Python 3 (ipykernel)",
   "language": "python",
   "name": "python3"
  },
  "language_info": {
   "codemirror_mode": {
    "name": "ipython",
    "version": 3
   },
   "file_extension": ".py",
   "mimetype": "text/x-python",
   "name": "python",
   "nbconvert_exporter": "python",
   "pygments_lexer": "ipython3",
   "version": "3.7.12"
  }
 },
 "nbformat": 4,
 "nbformat_minor": 5
}
